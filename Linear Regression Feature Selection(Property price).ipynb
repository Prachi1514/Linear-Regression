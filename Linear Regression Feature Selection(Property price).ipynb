{
 "cells": [
  {
   "cell_type": "code",
   "execution_count": 48,
   "id": "adc5ad48-cbe1-4737-91a6-5bf7d1c25795",
   "metadata": {},
   "outputs": [],
   "source": [
    "import pandas as pd\n",
    "import numpy as np\n",
    "import warnings\n",
    "warnings.filterwarnings(\"ignore\")\n",
    "import matplotlib.pyplot as plt\n",
    "import seaborn as sns"
   ]
  },
  {
   "cell_type": "code",
   "execution_count": 49,
   "id": "d4429b31-d7a7-4448-87e9-06716e5d85f4",
   "metadata": {},
   "outputs": [],
   "source": [
    "pp = pd.read_csv(r\"Property_Price_Train.csv\")"
   ]
  },
  {
   "cell_type": "code",
   "execution_count": 50,
   "id": "409a2494-7abd-4988-9033-8748b72da51b",
   "metadata": {},
   "outputs": [
    {
     "data": {
      "text/html": [
       "<div>\n",
       "<style scoped>\n",
       "    .dataframe tbody tr th:only-of-type {\n",
       "        vertical-align: middle;\n",
       "    }\n",
       "\n",
       "    .dataframe tbody tr th {\n",
       "        vertical-align: top;\n",
       "    }\n",
       "\n",
       "    .dataframe thead th {\n",
       "        text-align: right;\n",
       "    }\n",
       "</style>\n",
       "<table border=\"1\" class=\"dataframe\">\n",
       "  <thead>\n",
       "    <tr style=\"text-align: right;\">\n",
       "      <th></th>\n",
       "      <th>Id</th>\n",
       "      <th>Building_Class</th>\n",
       "      <th>Zoning_Class</th>\n",
       "      <th>Lot_Extent</th>\n",
       "      <th>Lot_Size</th>\n",
       "      <th>Road_Type</th>\n",
       "      <th>Lane_Type</th>\n",
       "      <th>Property_Shape</th>\n",
       "      <th>Land_Outline</th>\n",
       "      <th>Utility_Type</th>\n",
       "      <th>...</th>\n",
       "      <th>Pool_Area</th>\n",
       "      <th>Pool_Quality</th>\n",
       "      <th>Fence_Quality</th>\n",
       "      <th>Miscellaneous_Feature</th>\n",
       "      <th>Miscellaneous_Value</th>\n",
       "      <th>Month_Sold</th>\n",
       "      <th>Year_Sold</th>\n",
       "      <th>Sale_Type</th>\n",
       "      <th>Sale_Condition</th>\n",
       "      <th>Sale_Price</th>\n",
       "    </tr>\n",
       "  </thead>\n",
       "  <tbody>\n",
       "    <tr>\n",
       "      <th>0</th>\n",
       "      <td>1</td>\n",
       "      <td>60</td>\n",
       "      <td>RLD</td>\n",
       "      <td>65.0</td>\n",
       "      <td>8450</td>\n",
       "      <td>Paved</td>\n",
       "      <td>NaN</td>\n",
       "      <td>Reg</td>\n",
       "      <td>Lvl</td>\n",
       "      <td>AllPub</td>\n",
       "      <td>...</td>\n",
       "      <td>0</td>\n",
       "      <td>NaN</td>\n",
       "      <td>NaN</td>\n",
       "      <td>NaN</td>\n",
       "      <td>0</td>\n",
       "      <td>2</td>\n",
       "      <td>2008</td>\n",
       "      <td>WD</td>\n",
       "      <td>Normal</td>\n",
       "      <td>208500</td>\n",
       "    </tr>\n",
       "    <tr>\n",
       "      <th>1</th>\n",
       "      <td>2</td>\n",
       "      <td>20</td>\n",
       "      <td>RLD</td>\n",
       "      <td>80.0</td>\n",
       "      <td>9600</td>\n",
       "      <td>Paved</td>\n",
       "      <td>NaN</td>\n",
       "      <td>Reg</td>\n",
       "      <td>Lvl</td>\n",
       "      <td>AllPub</td>\n",
       "      <td>...</td>\n",
       "      <td>0</td>\n",
       "      <td>NaN</td>\n",
       "      <td>NaN</td>\n",
       "      <td>NaN</td>\n",
       "      <td>0</td>\n",
       "      <td>5</td>\n",
       "      <td>2007</td>\n",
       "      <td>WD</td>\n",
       "      <td>Normal</td>\n",
       "      <td>181500</td>\n",
       "    </tr>\n",
       "    <tr>\n",
       "      <th>2</th>\n",
       "      <td>3</td>\n",
       "      <td>60</td>\n",
       "      <td>RLD</td>\n",
       "      <td>68.0</td>\n",
       "      <td>11250</td>\n",
       "      <td>Paved</td>\n",
       "      <td>NaN</td>\n",
       "      <td>IR1</td>\n",
       "      <td>Lvl</td>\n",
       "      <td>AllPub</td>\n",
       "      <td>...</td>\n",
       "      <td>0</td>\n",
       "      <td>NaN</td>\n",
       "      <td>NaN</td>\n",
       "      <td>NaN</td>\n",
       "      <td>0</td>\n",
       "      <td>9</td>\n",
       "      <td>2008</td>\n",
       "      <td>WD</td>\n",
       "      <td>Normal</td>\n",
       "      <td>223500</td>\n",
       "    </tr>\n",
       "    <tr>\n",
       "      <th>3</th>\n",
       "      <td>4</td>\n",
       "      <td>70</td>\n",
       "      <td>RLD</td>\n",
       "      <td>60.0</td>\n",
       "      <td>9550</td>\n",
       "      <td>Paved</td>\n",
       "      <td>NaN</td>\n",
       "      <td>IR1</td>\n",
       "      <td>Lvl</td>\n",
       "      <td>AllPub</td>\n",
       "      <td>...</td>\n",
       "      <td>0</td>\n",
       "      <td>NaN</td>\n",
       "      <td>NaN</td>\n",
       "      <td>NaN</td>\n",
       "      <td>0</td>\n",
       "      <td>2</td>\n",
       "      <td>2006</td>\n",
       "      <td>WD</td>\n",
       "      <td>Abnorml</td>\n",
       "      <td>140000</td>\n",
       "    </tr>\n",
       "    <tr>\n",
       "      <th>4</th>\n",
       "      <td>5</td>\n",
       "      <td>60</td>\n",
       "      <td>RLD</td>\n",
       "      <td>84.0</td>\n",
       "      <td>14260</td>\n",
       "      <td>Paved</td>\n",
       "      <td>NaN</td>\n",
       "      <td>IR1</td>\n",
       "      <td>Lvl</td>\n",
       "      <td>AllPub</td>\n",
       "      <td>...</td>\n",
       "      <td>0</td>\n",
       "      <td>NaN</td>\n",
       "      <td>NaN</td>\n",
       "      <td>NaN</td>\n",
       "      <td>0</td>\n",
       "      <td>12</td>\n",
       "      <td>2008</td>\n",
       "      <td>WD</td>\n",
       "      <td>Normal</td>\n",
       "      <td>250000</td>\n",
       "    </tr>\n",
       "  </tbody>\n",
       "</table>\n",
       "<p>5 rows × 81 columns</p>\n",
       "</div>"
      ],
      "text/plain": [
       "   Id  Building_Class Zoning_Class  Lot_Extent  Lot_Size Road_Type Lane_Type  \\\n",
       "0   1              60          RLD        65.0      8450     Paved       NaN   \n",
       "1   2              20          RLD        80.0      9600     Paved       NaN   \n",
       "2   3              60          RLD        68.0     11250     Paved       NaN   \n",
       "3   4              70          RLD        60.0      9550     Paved       NaN   \n",
       "4   5              60          RLD        84.0     14260     Paved       NaN   \n",
       "\n",
       "  Property_Shape Land_Outline Utility_Type  ... Pool_Area Pool_Quality  \\\n",
       "0            Reg          Lvl       AllPub  ...         0          NaN   \n",
       "1            Reg          Lvl       AllPub  ...         0          NaN   \n",
       "2            IR1          Lvl       AllPub  ...         0          NaN   \n",
       "3            IR1          Lvl       AllPub  ...         0          NaN   \n",
       "4            IR1          Lvl       AllPub  ...         0          NaN   \n",
       "\n",
       "  Fence_Quality Miscellaneous_Feature Miscellaneous_Value Month_Sold  \\\n",
       "0           NaN                   NaN                   0          2   \n",
       "1           NaN                   NaN                   0          5   \n",
       "2           NaN                   NaN                   0          9   \n",
       "3           NaN                   NaN                   0          2   \n",
       "4           NaN                   NaN                   0         12   \n",
       "\n",
       "  Year_Sold  Sale_Type  Sale_Condition  Sale_Price  \n",
       "0      2008         WD          Normal      208500  \n",
       "1      2007         WD          Normal      181500  \n",
       "2      2008         WD          Normal      223500  \n",
       "3      2006         WD         Abnorml      140000  \n",
       "4      2008         WD          Normal      250000  \n",
       "\n",
       "[5 rows x 81 columns]"
      ]
     },
     "execution_count": 50,
     "metadata": {},
     "output_type": "execute_result"
    }
   ],
   "source": [
    "pp.head()"
   ]
  },
  {
   "cell_type": "code",
   "execution_count": 51,
   "id": "563c6121-a45e-4b6e-bb06-b50496a86d98",
   "metadata": {},
   "outputs": [
    {
     "data": {
      "text/plain": [
       "Index(['Id', 'Building_Class', 'Zoning_Class', 'Lot_Extent', 'Lot_Size',\n",
       "       'Road_Type', 'Lane_Type', 'Property_Shape', 'Land_Outline',\n",
       "       'Utility_Type', 'Lot_Configuration', 'Property_Slope', 'Neighborhood',\n",
       "       'Condition1', 'Condition2', 'House_Type', 'House_Design',\n",
       "       'Overall_Material', 'House_Condition', 'Construction_Year',\n",
       "       'Remodel_Year', 'Roof_Design', 'Roof_Quality', 'Exterior1st',\n",
       "       'Exterior2nd', 'Brick_Veneer_Type', 'Brick_Veneer_Area',\n",
       "       'Exterior_Material', 'Exterior_Condition', 'Foundation_Type',\n",
       "       'Basement_Height', 'Basement_Condition', 'Exposure_Level',\n",
       "       'BsmtFinType1', 'BsmtFinSF1', 'BsmtFinType2', 'BsmtFinSF2', 'BsmtUnfSF',\n",
       "       'Total_Basement_Area', 'Heating_Type', 'Heating_Quality',\n",
       "       'Air_Conditioning', 'Electrical_System', 'First_Floor_Area',\n",
       "       'Second_Floor_Area', 'LowQualFinSF', 'Grade_Living_Area',\n",
       "       'Underground_Full_Bathroom', 'Underground_Half_Bathroom',\n",
       "       'Full_Bathroom_Above_Grade', 'Half_Bathroom_Above_Grade',\n",
       "       'Bedroom_Above_Grade', 'Kitchen_Above_Grade', 'Kitchen_Quality',\n",
       "       'Rooms_Above_Grade', 'Functional_Rate', 'Fireplaces',\n",
       "       'Fireplace_Quality', 'Garage', 'Garage_Built_Year',\n",
       "       'Garage_Finish_Year', 'Garage_Size', 'Garage_Area', 'Garage_Quality',\n",
       "       'Garage_Condition', 'Pavedd_Drive', 'W_Deck_Area', 'Open_Lobby_Area',\n",
       "       'Enclosed_Lobby_Area', 'Three_Season_Lobby_Area', 'Screen_Lobby_Area',\n",
       "       'Pool_Area', 'Pool_Quality', 'Fence_Quality', 'Miscellaneous_Feature',\n",
       "       'Miscellaneous_Value', 'Month_Sold', 'Year_Sold', 'Sale_Type',\n",
       "       'Sale_Condition', 'Sale_Price'],\n",
       "      dtype='object')"
      ]
     },
     "execution_count": 51,
     "metadata": {},
     "output_type": "execute_result"
    }
   ],
   "source": [
    "pp.columns"
   ]
  },
  {
   "cell_type": "code",
   "execution_count": 52,
   "id": "905019eb-b452-4e31-90a9-d071fe2d228c",
   "metadata": {},
   "outputs": [
    {
     "data": {
      "text/plain": [
       "19"
      ]
     },
     "execution_count": 52,
     "metadata": {},
     "output_type": "execute_result"
    }
   ],
   "source": [
    "pp.isnull().sum()[pp.isnull().sum() > 0].count()"
   ]
  },
  {
   "cell_type": "code",
   "execution_count": 53,
   "id": "4327fc9f-ff01-48c0-bf6a-c07de3ee1efa",
   "metadata": {},
   "outputs": [
    {
     "data": {
      "text/plain": [
       "Lane_Type                1368\n",
       "Brick_Veneer_Type         871\n",
       "Pool_Quality             1452\n",
       "Fence_Quality            1178\n",
       "Miscellaneous_Feature    1405\n",
       "dtype: int64"
      ]
     },
     "execution_count": 53,
     "metadata": {},
     "output_type": "execute_result"
    }
   ],
   "source": [
    "pp.isnull().sum()[pp.isnull().sum() > pp.shape[0] * .5]"
   ]
  },
  {
   "cell_type": "code",
   "execution_count": 54,
   "id": "4fd3bb4d-e67b-4012-ab27-950c2bdea9a3",
   "metadata": {},
   "outputs": [
    {
     "data": {
      "text/plain": [
       "(1459, 81)"
      ]
     },
     "execution_count": 54,
     "metadata": {},
     "output_type": "execute_result"
    }
   ],
   "source": [
    "pp.shape"
   ]
  },
  {
   "cell_type": "code",
   "execution_count": 55,
   "id": "fdf8169f-1c01-4b7a-8dbe-ad3a81954f1f",
   "metadata": {},
   "outputs": [
    {
     "data": {
      "text/plain": [
       "93.76285126799178"
      ]
     },
     "execution_count": 55,
     "metadata": {},
     "output_type": "execute_result"
    }
   ],
   "source": [
    "1368 * 100 / 1459    # drop nulls which are greater than 50%"
   ]
  },
  {
   "cell_type": "code",
   "execution_count": 56,
   "id": "8bc21eee-677d-4552-b6de-f7495965035c",
   "metadata": {},
   "outputs": [],
   "source": [
    "pp.drop(\"Brick_Veneer_Type\", axis=1, inplace=True)\n",
    "pp.drop(\"Fence_Quality\", axis = 1, inplace = True)\n",
    "pp.drop(\"Lane_Type\", axis = 1, inplace = True)\n",
    "pp.drop(\"Miscellaneous_Feature\", axis = 1, inplace = True)\n",
    "pp.drop(\"Pool_Quality\", axis = 1, inplace = True)\n",
    "pp.drop(\"Fireplace_Quality\", axis = 1, inplace = True)\n",
    "pp.drop(\"Id\", axis=1, inplace = True)"
   ]
  },
  {
   "cell_type": "code",
   "execution_count": null,
   "id": "bb687d2b-6154-46a0-8523-b9249db2f899",
   "metadata": {},
   "outputs": [],
   "source": []
  },
  {
   "cell_type": "code",
   "execution_count": null,
   "id": "78e0b301-3813-4469-8224-f38173bd6a1c",
   "metadata": {},
   "outputs": [],
   "source": []
  },
  {
   "cell_type": "code",
   "execution_count": null,
   "id": "1804238c-8026-4973-a55b-646a693cfe5c",
   "metadata": {},
   "outputs": [],
   "source": []
  },
  {
   "cell_type": "code",
   "execution_count": null,
   "id": "46569c38-56af-4770-99bc-7d57ccadd08f",
   "metadata": {},
   "outputs": [],
   "source": []
  },
  {
   "cell_type": "code",
   "execution_count": null,
   "id": "23199dd4-76ac-43b3-a12b-ad3840de0c78",
   "metadata": {},
   "outputs": [],
   "source": []
  },
  {
   "cell_type": "code",
   "execution_count": null,
   "id": "048ac6aa-0517-4c1f-8f96-8d58be7966cf",
   "metadata": {},
   "outputs": [],
   "source": []
  },
  {
   "cell_type": "code",
   "execution_count": 57,
   "id": "c4ec6291-440b-4560-bc72-62173085142b",
   "metadata": {},
   "outputs": [],
   "source": [
    "pp.Lot_Extent.fillna(pp.Lot_Extent.mean(), inplace = True)\n",
    "pp.Brick_Veneer_Area.fillna(pp.Brick_Veneer_Area.mean(), inplace = True)\n",
    "pp.Basement_Height.fillna('TA', inplace = True)\n",
    "pp.Basement_Condition.fillna('TA', inplace = True) \n",
    "pp.Exposure_Level.fillna('No', inplace = True)\n",
    "pp.BsmtFinType1.fillna('Unf', inplace=True)\n",
    "pp.BsmtFinType2.fillna('Unf', inplace = True)\n",
    "pp.Electrical_System.fillna('SBrkr', inplace = True)\n",
    "pp.Garage.fillna('Attchd', inplace=True)\n",
    "pp.Garage_Built_Year.fillna(pp.Garage_Built_Year.mean(), inplace=True)  \n",
    "pp.Garage_Finish_Year.fillna('Unf', inplace=True) \n",
    "pp.Garage_Quality.fillna('TA', inplace=True) \n",
    "pp.Garage_Condition.fillna('TA', inplace = True)"
   ]
  },
  {
   "cell_type": "code",
   "execution_count": 58,
   "id": "6f595a52-ee61-492d-b02d-d054887de8f7",
   "metadata": {},
   "outputs": [],
   "source": [
    "from sklearn.preprocessing import LabelEncoder\n",
    "le = LabelEncoder()\n",
    "pp[pp.select_dtypes(include = 'object').columns] = pp[pp.select_dtypes(include = 'object').columns].apply(le.fit_transform)"
   ]
  },
  {
   "cell_type": "code",
   "execution_count": 59,
   "id": "ad4d8756-a507-4573-bfca-3726d818a412",
   "metadata": {},
   "outputs": [
    {
     "data": {
      "text/plain": [
       "74"
      ]
     },
     "execution_count": 59,
     "metadata": {},
     "output_type": "execute_result"
    }
   ],
   "source": [
    "len(pp.columns)"
   ]
  },
  {
   "cell_type": "code",
   "execution_count": 60,
   "id": "7800fa74-b1d6-4e23-a710-7c415dee437c",
   "metadata": {},
   "outputs": [],
   "source": [
    "from sklearn.model_selection import train_test_split\n",
    "pp_train, pp_test = train_test_split(pp, test_size = .25, random_state = 111) \n",
    "\n",
    "pp_train_x = pp_train.iloc[:, 0:74]\n",
    "pp_train_y = pp_train.iloc[:, -1]\n",
    "\n",
    "pp_test_x = pp_test.iloc[:, 0:74]\n",
    "pp_test_y = pp_test.iloc[:, -1]"
   ]
  },
  {
   "cell_type": "code",
   "execution_count": null,
   "id": "95042af6-636d-4667-87fc-7390e6d2ba15",
   "metadata": {},
   "outputs": [],
   "source": []
  },
  {
   "cell_type": "code",
   "execution_count": 61,
   "id": "359d7e9d-9c0a-4647-be98-d897778f1dd0",
   "metadata": {},
   "outputs": [
    {
     "data": {
      "text/html": [
       "<div>\n",
       "<style scoped>\n",
       "    .dataframe tbody tr th:only-of-type {\n",
       "        vertical-align: middle;\n",
       "    }\n",
       "\n",
       "    .dataframe tbody tr th {\n",
       "        vertical-align: top;\n",
       "    }\n",
       "\n",
       "    .dataframe thead th {\n",
       "        text-align: right;\n",
       "    }\n",
       "</style>\n",
       "<table border=\"1\" class=\"dataframe\">\n",
       "  <thead>\n",
       "    <tr style=\"text-align: right;\">\n",
       "      <th></th>\n",
       "      <th>Building_Class</th>\n",
       "      <th>Zoning_Class</th>\n",
       "      <th>Lot_Extent</th>\n",
       "      <th>Lot_Size</th>\n",
       "      <th>Road_Type</th>\n",
       "      <th>Property_Shape</th>\n",
       "      <th>Land_Outline</th>\n",
       "      <th>Utility_Type</th>\n",
       "      <th>Lot_Configuration</th>\n",
       "      <th>Property_Slope</th>\n",
       "      <th>...</th>\n",
       "      <th>Enclosed_Lobby_Area</th>\n",
       "      <th>Three_Season_Lobby_Area</th>\n",
       "      <th>Screen_Lobby_Area</th>\n",
       "      <th>Pool_Area</th>\n",
       "      <th>Miscellaneous_Value</th>\n",
       "      <th>Month_Sold</th>\n",
       "      <th>Year_Sold</th>\n",
       "      <th>Sale_Type</th>\n",
       "      <th>Sale_Condition</th>\n",
       "      <th>Sale_Price</th>\n",
       "    </tr>\n",
       "  </thead>\n",
       "  <tbody>\n",
       "    <tr>\n",
       "      <th>1200</th>\n",
       "      <td>20</td>\n",
       "      <td>3</td>\n",
       "      <td>71.0</td>\n",
       "      <td>9353</td>\n",
       "      <td>1</td>\n",
       "      <td>3</td>\n",
       "      <td>3</td>\n",
       "      <td>0</td>\n",
       "      <td>4</td>\n",
       "      <td>0</td>\n",
       "      <td>...</td>\n",
       "      <td>163.283601</td>\n",
       "      <td>0</td>\n",
       "      <td>0</td>\n",
       "      <td>0</td>\n",
       "      <td>0</td>\n",
       "      <td>7</td>\n",
       "      <td>2006</td>\n",
       "      <td>7</td>\n",
       "      <td>0</td>\n",
       "      <td>116050</td>\n",
       "    </tr>\n",
       "    <tr>\n",
       "      <th>634</th>\n",
       "      <td>90</td>\n",
       "      <td>3</td>\n",
       "      <td>64.0</td>\n",
       "      <td>6979</td>\n",
       "      <td>1</td>\n",
       "      <td>3</td>\n",
       "      <td>3</td>\n",
       "      <td>0</td>\n",
       "      <td>4</td>\n",
       "      <td>0</td>\n",
       "      <td>...</td>\n",
       "      <td>1.691671</td>\n",
       "      <td>0</td>\n",
       "      <td>0</td>\n",
       "      <td>0</td>\n",
       "      <td>600</td>\n",
       "      <td>6</td>\n",
       "      <td>2010</td>\n",
       "      <td>8</td>\n",
       "      <td>4</td>\n",
       "      <td>144000</td>\n",
       "    </tr>\n",
       "    <tr>\n",
       "      <th>367</th>\n",
       "      <td>80</td>\n",
       "      <td>3</td>\n",
       "      <td>101.0</td>\n",
       "      <td>9150</td>\n",
       "      <td>1</td>\n",
       "      <td>0</td>\n",
       "      <td>3</td>\n",
       "      <td>0</td>\n",
       "      <td>0</td>\n",
       "      <td>0</td>\n",
       "      <td>...</td>\n",
       "      <td>10.455818</td>\n",
       "      <td>0</td>\n",
       "      <td>0</td>\n",
       "      <td>0</td>\n",
       "      <td>0</td>\n",
       "      <td>12</td>\n",
       "      <td>2008</td>\n",
       "      <td>8</td>\n",
       "      <td>4</td>\n",
       "      <td>165000</td>\n",
       "    </tr>\n",
       "    <tr>\n",
       "      <th>1439</th>\n",
       "      <td>60</td>\n",
       "      <td>3</td>\n",
       "      <td>80.0</td>\n",
       "      <td>11584</td>\n",
       "      <td>1</td>\n",
       "      <td>3</td>\n",
       "      <td>3</td>\n",
       "      <td>0</td>\n",
       "      <td>4</td>\n",
       "      <td>0</td>\n",
       "      <td>...</td>\n",
       "      <td>-23.849649</td>\n",
       "      <td>0</td>\n",
       "      <td>0</td>\n",
       "      <td>0</td>\n",
       "      <td>0</td>\n",
       "      <td>11</td>\n",
       "      <td>2007</td>\n",
       "      <td>8</td>\n",
       "      <td>4</td>\n",
       "      <td>197000</td>\n",
       "    </tr>\n",
       "    <tr>\n",
       "      <th>228</th>\n",
       "      <td>20</td>\n",
       "      <td>3</td>\n",
       "      <td>70.0</td>\n",
       "      <td>8521</td>\n",
       "      <td>1</td>\n",
       "      <td>3</td>\n",
       "      <td>3</td>\n",
       "      <td>0</td>\n",
       "      <td>2</td>\n",
       "      <td>0</td>\n",
       "      <td>...</td>\n",
       "      <td>106.053658</td>\n",
       "      <td>0</td>\n",
       "      <td>0</td>\n",
       "      <td>0</td>\n",
       "      <td>0</td>\n",
       "      <td>5</td>\n",
       "      <td>2010</td>\n",
       "      <td>8</td>\n",
       "      <td>4</td>\n",
       "      <td>125000</td>\n",
       "    </tr>\n",
       "    <tr>\n",
       "      <th>...</th>\n",
       "      <td>...</td>\n",
       "      <td>...</td>\n",
       "      <td>...</td>\n",
       "      <td>...</td>\n",
       "      <td>...</td>\n",
       "      <td>...</td>\n",
       "      <td>...</td>\n",
       "      <td>...</td>\n",
       "      <td>...</td>\n",
       "      <td>...</td>\n",
       "      <td>...</td>\n",
       "      <td>...</td>\n",
       "      <td>...</td>\n",
       "      <td>...</td>\n",
       "      <td>...</td>\n",
       "      <td>...</td>\n",
       "      <td>...</td>\n",
       "      <td>...</td>\n",
       "      <td>...</td>\n",
       "      <td>...</td>\n",
       "      <td>...</td>\n",
       "    </tr>\n",
       "    <tr>\n",
       "      <th>681</th>\n",
       "      <td>50</td>\n",
       "      <td>2</td>\n",
       "      <td>55.0</td>\n",
       "      <td>4500</td>\n",
       "      <td>1</td>\n",
       "      <td>1</td>\n",
       "      <td>0</td>\n",
       "      <td>0</td>\n",
       "      <td>4</td>\n",
       "      <td>0</td>\n",
       "      <td>...</td>\n",
       "      <td>17.578066</td>\n",
       "      <td>0</td>\n",
       "      <td>0</td>\n",
       "      <td>0</td>\n",
       "      <td>0</td>\n",
       "      <td>7</td>\n",
       "      <td>2009</td>\n",
       "      <td>8</td>\n",
       "      <td>0</td>\n",
       "      <td>159434</td>\n",
       "    </tr>\n",
       "    <tr>\n",
       "      <th>1299</th>\n",
       "      <td>20</td>\n",
       "      <td>3</td>\n",
       "      <td>75.0</td>\n",
       "      <td>7500</td>\n",
       "      <td>1</td>\n",
       "      <td>3</td>\n",
       "      <td>3</td>\n",
       "      <td>0</td>\n",
       "      <td>4</td>\n",
       "      <td>0</td>\n",
       "      <td>...</td>\n",
       "      <td>-64.256450</td>\n",
       "      <td>0</td>\n",
       "      <td>0</td>\n",
       "      <td>0</td>\n",
       "      <td>0</td>\n",
       "      <td>5</td>\n",
       "      <td>2010</td>\n",
       "      <td>8</td>\n",
       "      <td>4</td>\n",
       "      <td>154000</td>\n",
       "    </tr>\n",
       "    <tr>\n",
       "      <th>86</th>\n",
       "      <td>60</td>\n",
       "      <td>3</td>\n",
       "      <td>122.0</td>\n",
       "      <td>11911</td>\n",
       "      <td>1</td>\n",
       "      <td>1</td>\n",
       "      <td>3</td>\n",
       "      <td>0</td>\n",
       "      <td>4</td>\n",
       "      <td>0</td>\n",
       "      <td>...</td>\n",
       "      <td>-70.424050</td>\n",
       "      <td>0</td>\n",
       "      <td>0</td>\n",
       "      <td>0</td>\n",
       "      <td>0</td>\n",
       "      <td>3</td>\n",
       "      <td>2009</td>\n",
       "      <td>8</td>\n",
       "      <td>4</td>\n",
       "      <td>174000</td>\n",
       "    </tr>\n",
       "    <tr>\n",
       "      <th>724</th>\n",
       "      <td>20</td>\n",
       "      <td>3</td>\n",
       "      <td>86.0</td>\n",
       "      <td>13286</td>\n",
       "      <td>1</td>\n",
       "      <td>0</td>\n",
       "      <td>3</td>\n",
       "      <td>0</td>\n",
       "      <td>4</td>\n",
       "      <td>0</td>\n",
       "      <td>...</td>\n",
       "      <td>-11.182180</td>\n",
       "      <td>0</td>\n",
       "      <td>0</td>\n",
       "      <td>0</td>\n",
       "      <td>0</td>\n",
       "      <td>2</td>\n",
       "      <td>2009</td>\n",
       "      <td>8</td>\n",
       "      <td>4</td>\n",
       "      <td>320000</td>\n",
       "    </tr>\n",
       "    <tr>\n",
       "      <th>876</th>\n",
       "      <td>20</td>\n",
       "      <td>3</td>\n",
       "      <td>94.0</td>\n",
       "      <td>25286</td>\n",
       "      <td>1</td>\n",
       "      <td>3</td>\n",
       "      <td>1</td>\n",
       "      <td>0</td>\n",
       "      <td>4</td>\n",
       "      <td>1</td>\n",
       "      <td>...</td>\n",
       "      <td>91.258869</td>\n",
       "      <td>0</td>\n",
       "      <td>0</td>\n",
       "      <td>0</td>\n",
       "      <td>0</td>\n",
       "      <td>1</td>\n",
       "      <td>2007</td>\n",
       "      <td>8</td>\n",
       "      <td>4</td>\n",
       "      <td>132250</td>\n",
       "    </tr>\n",
       "  </tbody>\n",
       "</table>\n",
       "<p>1094 rows × 74 columns</p>\n",
       "</div>"
      ],
      "text/plain": [
       "      Building_Class  Zoning_Class  Lot_Extent  Lot_Size  Road_Type  \\\n",
       "1200              20             3        71.0      9353          1   \n",
       "634               90             3        64.0      6979          1   \n",
       "367               80             3       101.0      9150          1   \n",
       "1439              60             3        80.0     11584          1   \n",
       "228               20             3        70.0      8521          1   \n",
       "...              ...           ...         ...       ...        ...   \n",
       "681               50             2        55.0      4500          1   \n",
       "1299              20             3        75.0      7500          1   \n",
       "86                60             3       122.0     11911          1   \n",
       "724               20             3        86.0     13286          1   \n",
       "876               20             3        94.0     25286          1   \n",
       "\n",
       "      Property_Shape  Land_Outline  Utility_Type  Lot_Configuration  \\\n",
       "1200               3             3             0                  4   \n",
       "634                3             3             0                  4   \n",
       "367                0             3             0                  0   \n",
       "1439               3             3             0                  4   \n",
       "228                3             3             0                  2   \n",
       "...              ...           ...           ...                ...   \n",
       "681                1             0             0                  4   \n",
       "1299               3             3             0                  4   \n",
       "86                 1             3             0                  4   \n",
       "724                0             3             0                  4   \n",
       "876                3             1             0                  4   \n",
       "\n",
       "      Property_Slope  ...  Enclosed_Lobby_Area  Three_Season_Lobby_Area  \\\n",
       "1200               0  ...           163.283601                        0   \n",
       "634                0  ...             1.691671                        0   \n",
       "367                0  ...            10.455818                        0   \n",
       "1439               0  ...           -23.849649                        0   \n",
       "228                0  ...           106.053658                        0   \n",
       "...              ...  ...                  ...                      ...   \n",
       "681                0  ...            17.578066                        0   \n",
       "1299               0  ...           -64.256450                        0   \n",
       "86                 0  ...           -70.424050                        0   \n",
       "724                0  ...           -11.182180                        0   \n",
       "876                1  ...            91.258869                        0   \n",
       "\n",
       "      Screen_Lobby_Area  Pool_Area  Miscellaneous_Value  Month_Sold  \\\n",
       "1200                  0          0                    0           7   \n",
       "634                   0          0                  600           6   \n",
       "367                   0          0                    0          12   \n",
       "1439                  0          0                    0          11   \n",
       "228                   0          0                    0           5   \n",
       "...                 ...        ...                  ...         ...   \n",
       "681                   0          0                    0           7   \n",
       "1299                  0          0                    0           5   \n",
       "86                    0          0                    0           3   \n",
       "724                   0          0                    0           2   \n",
       "876                   0          0                    0           1   \n",
       "\n",
       "      Year_Sold  Sale_Type  Sale_Condition  Sale_Price  \n",
       "1200       2006          7               0      116050  \n",
       "634        2010          8               4      144000  \n",
       "367        2008          8               4      165000  \n",
       "1439       2007          8               4      197000  \n",
       "228        2010          8               4      125000  \n",
       "...         ...        ...             ...         ...  \n",
       "681        2009          8               0      159434  \n",
       "1299       2010          8               4      154000  \n",
       "86         2009          8               4      174000  \n",
       "724        2009          8               4      320000  \n",
       "876        2007          8               4      132250  \n",
       "\n",
       "[1094 rows x 74 columns]"
      ]
     },
     "execution_count": 61,
     "metadata": {},
     "output_type": "execute_result"
    }
   ],
   "source": [
    "pp_train_x"
   ]
  },
  {
   "cell_type": "code",
   "execution_count": 62,
   "id": "5d0b742d-c6ff-478a-9bbe-1e3e84cfdba6",
   "metadata": {},
   "outputs": [
    {
     "data": {
      "text/plain": [
       "1.0"
      ]
     },
     "execution_count": 62,
     "metadata": {},
     "output_type": "execute_result"
    }
   ],
   "source": [
    "from sklearn.linear_model import LinearRegression\n",
    "linreg = LinearRegression()\n",
    "linreg.fit(pp_train_x, pp_train_y)\n",
    "Rsquare = linreg.score(pp_train_x, pp_train_y)\n",
    "Rsquare\n"
   ]
  },
  {
   "cell_type": "code",
   "execution_count": 63,
   "id": "68274d3a-dda9-4ba3-82ef-a4ecc1b58c8e",
   "metadata": {},
   "outputs": [],
   "source": [
    "# Rsquare\n"
   ]
  },
  {
   "cell_type": "code",
   "execution_count": 64,
   "id": "db4c30c1-a17f-45b5-b01a-453f35ecd606",
   "metadata": {},
   "outputs": [
    {
     "data": {
      "text/plain": [
       "1.0"
      ]
     },
     "execution_count": 64,
     "metadata": {},
     "output_type": "execute_result"
    }
   ],
   "source": [
    "N = pp_train_x.shape[0]\n",
    "K = pp_train_x.shape[1]\n",
    "Adj_Rsq = 1 - (1 - Rsquare) * (N - 1)/(N - K - 1)\n",
    "Adj_Rsq"
   ]
  },
  {
   "cell_type": "code",
   "execution_count": 65,
   "id": "22436661-be51-4868-a9a3-d77188618539",
   "metadata": {},
   "outputs": [
    {
     "data": {
      "text/plain": [
       "3.2014213502407074e-10"
      ]
     },
     "execution_count": 65,
     "metadata": {},
     "output_type": "execute_result"
    }
   ],
   "source": [
    "linreg.intercept_"
   ]
  },
  {
   "cell_type": "code",
   "execution_count": 66,
   "id": "a83804b4-77ca-492e-a1bc-72ace84032a8",
   "metadata": {},
   "outputs": [
    {
     "data": {
      "text/plain": [
       "array([ 3.04010925e-13, -1.27045041e-11,  2.88241653e-13,  8.23993651e-17,\n",
       "       -2.90238007e-11, -4.68640629e-13,  5.17787896e-12, -9.22751289e-11,\n",
       "       -1.38968058e-12,  5.73375837e-12,  3.19202604e-13,  3.79014426e-13,\n",
       "       -4.36635000e-12, -9.94206619e-12, -7.10319583e-12,  8.00170817e-12,\n",
       "        1.96494803e-12, -3.37541139e-14, -1.80481986e-14, -1.49657448e-12,\n",
       "        1.61787204e-11, -4.12752372e-13, -1.79122593e-13,  9.79175508e-15,\n",
       "       -5.93086154e-12,  1.51355949e-12,  1.39899484e-12, -8.64709813e-13,\n",
       "       -1.41255144e-12,  1.44016055e-13, -1.83520361e-13, -2.09992343e-15,\n",
       "       -1.19288054e-12, -3.81530744e-16, -1.01041815e-14, -1.25872349e-14,\n",
       "       -4.55052897e-12,  1.30219427e-13,  1.23680542e-12, -6.94324034e-13,\n",
       "        1.30321101e-15,  4.26660660e-16, -6.11191870e-16,  1.11767691e-15,\n",
       "       -5.39484922e-13,  5.07636802e-12,  1.51173190e-11,  7.82209457e-13,\n",
       "       -2.03470765e-12, -3.08540704e-11, -4.75096382e-12,  2.98146094e-12,\n",
       "       -1.24346361e-13, -4.41654573e-12, -8.08455685e-13, -9.28545977e-14,\n",
       "       -1.46750157e-12,  7.76740324e-12, -1.26813707e-15,  7.08285874e-13,\n",
       "        3.82636841e-13, -1.25708566e-12, -3.77397224e-16,  1.58101410e-14,\n",
       "        2.86682909e-14,  3.91525462e-14, -3.02351324e-14,  3.98146143e-16,\n",
       "        1.89572750e-16, -5.29583498e-13,  1.69200307e-14, -3.95545413e-13,\n",
       "       -2.35237269e-12,  1.00000000e+00])"
      ]
     },
     "execution_count": 66,
     "metadata": {},
     "output_type": "execute_result"
    }
   ],
   "source": [
    "linreg.coef_"
   ]
  },
  {
   "cell_type": "code",
   "execution_count": 67,
   "id": "229218bd-4f5a-4590-bcc6-097645eb888c",
   "metadata": {},
   "outputs": [
    {
     "data": {
      "text/plain": [
       "array([116050., 144000., 165000., ..., 174000., 320000., 132250.])"
      ]
     },
     "execution_count": 67,
     "metadata": {},
     "output_type": "execute_result"
    }
   ],
   "source": [
    "pred_train = linreg.predict(pp_train_x)\n",
    "pred_train"
   ]
  },
  {
   "cell_type": "code",
   "execution_count": 68,
   "id": "379c2ee7-0e01-4245-8395-224b6fe734c9",
   "metadata": {},
   "outputs": [
    {
     "data": {
      "text/plain": [
       "1200   -1.455192e-11\n",
       "634     5.820766e-11\n",
       "367    -2.910383e-11\n",
       "1439    0.000000e+00\n",
       "228    -1.455192e-11\n",
       "            ...     \n",
       "681    -2.910383e-11\n",
       "1299   -2.910383e-11\n",
       "86     -2.910383e-11\n",
       "724     0.000000e+00\n",
       "876    -2.910383e-11\n",
       "Name: Sale_Price, Length: 1094, dtype: float64"
      ]
     },
     "execution_count": 68,
     "metadata": {},
     "output_type": "execute_result"
    }
   ],
   "source": [
    "err_train = pp_train_y - pred_train   #(actual - predicted)\n",
    "err_train"
   ]
  },
  {
   "cell_type": "code",
   "execution_count": 69,
   "id": "7a19801a-f055-492c-81f4-bf2f41ed7416",
   "metadata": {},
   "outputs": [
    {
     "data": {
      "text/plain": [
       "-2.1089635826851593e-11"
      ]
     },
     "execution_count": 69,
     "metadata": {},
     "output_type": "execute_result"
    }
   ],
   "source": [
    "err_train.mean()"
   ]
  },
  {
   "cell_type": "code",
   "execution_count": 70,
   "id": "efb3ec20-427e-4384-b86f-3e4d2778a941",
   "metadata": {},
   "outputs": [
    {
     "data": {
      "image/png": "[encoded data removed]",
      "text/plain": [
       "<Figure size 640x480 with 1 Axes>"
      ]
     },
     "metadata": {},
     "output_type": "display_data"
    }
   ],
   "source": [
    "import matplotlib.pyplot as plt\n",
    "\n",
    "plt.hist(err_train, bins = 30, edgecolor = 'red')\n",
    "plt.show()"
   ]
  },
  {
   "cell_type": "code",
   "execution_count": 71,
   "id": "4877fbdc-a61c-4f13-b4e8-64fa23ffd938",
   "metadata": {},
   "outputs": [
    {
     "data": {
      "text/plain": [
       "[<matplotlib.lines.Line2D at 0x14182738950>]"
      ]
     },
     "execution_count": 71,
     "metadata": {},
     "output_type": "execute_result"
    },
    {
     "data": {
      "image/png": "[encoded data removed]",
      "text/plain": [
       "<Figure size 640x480 with 1 Axes>"
      ]
     },
     "metadata": {},
     "output_type": "display_data"
    }
   ],
   "source": [
    "plt.plot(err_train,'.')"
   ]
  },
  {
   "cell_type": "code",
   "execution_count": 72,
   "id": "c085114d-12cb-4f98-8366-208236e6ceb0",
   "metadata": {},
   "outputs": [
    {
     "data": {
      "text/plain": [
       "<Axes: ylabel='Sale_Price'>"
      ]
     },
     "execution_count": 72,
     "metadata": {},
     "output_type": "execute_result"
    },
    {
     "data": {
      "image/png": "[encoded data removed]",
      "text/plain": [
       "<Figure size 640x480 with 1 Axes>"
      ]
     },
     "metadata": {},
     "output_type": "display_data"
    }
   ],
   "source": [
    "sns.boxplot(err_train, color='grey')"
   ]
  },
  {
   "cell_type": "code",
   "execution_count": 73,
   "id": "19597944-53f8-4745-8685-d7160e444e1f",
   "metadata": {},
   "outputs": [],
   "source": [
    "actual_pred = pd.DataFrame()\n",
    "actual_pred[\"Actual\"] = pp_train_y\n",
    "actual_pred[\"Predicted\"] = pred_train"
   ]
  },
  {
   "cell_type": "code",
   "execution_count": 74,
   "id": "cb215e55-5628-4239-961d-499cc578fd9a",
   "metadata": {},
   "outputs": [
    {
     "data": {
      "text/html": [
       "<div>\n",
       "<style scoped>\n",
       "    .dataframe tbody tr th:only-of-type {\n",
       "        vertical-align: middle;\n",
       "    }\n",
       "\n",
       "    .dataframe tbody tr th {\n",
       "        vertical-align: top;\n",
       "    }\n",
       "\n",
       "    .dataframe thead th {\n",
       "        text-align: right;\n",
       "    }\n",
       "</style>\n",
       "<table border=\"1\" class=\"dataframe\">\n",
       "  <thead>\n",
       "    <tr style=\"text-align: right;\">\n",
       "      <th></th>\n",
       "      <th>Actual</th>\n",
       "      <th>Predicted</th>\n",
       "    </tr>\n",
       "  </thead>\n",
       "  <tbody>\n",
       "    <tr>\n",
       "      <th>1200</th>\n",
       "      <td>116050</td>\n",
       "      <td>116050.0</td>\n",
       "    </tr>\n",
       "    <tr>\n",
       "      <th>634</th>\n",
       "      <td>144000</td>\n",
       "      <td>144000.0</td>\n",
       "    </tr>\n",
       "    <tr>\n",
       "      <th>367</th>\n",
       "      <td>165000</td>\n",
       "      <td>165000.0</td>\n",
       "    </tr>\n",
       "    <tr>\n",
       "      <th>1439</th>\n",
       "      <td>197000</td>\n",
       "      <td>197000.0</td>\n",
       "    </tr>\n",
       "    <tr>\n",
       "      <th>228</th>\n",
       "      <td>125000</td>\n",
       "      <td>125000.0</td>\n",
       "    </tr>\n",
       "    <tr>\n",
       "      <th>...</th>\n",
       "      <td>...</td>\n",
       "      <td>...</td>\n",
       "    </tr>\n",
       "    <tr>\n",
       "      <th>681</th>\n",
       "      <td>159434</td>\n",
       "      <td>159434.0</td>\n",
       "    </tr>\n",
       "    <tr>\n",
       "      <th>1299</th>\n",
       "      <td>154000</td>\n",
       "      <td>154000.0</td>\n",
       "    </tr>\n",
       "    <tr>\n",
       "      <th>86</th>\n",
       "      <td>174000</td>\n",
       "      <td>174000.0</td>\n",
       "    </tr>\n",
       "    <tr>\n",
       "      <th>724</th>\n",
       "      <td>320000</td>\n",
       "      <td>320000.0</td>\n",
       "    </tr>\n",
       "    <tr>\n",
       "      <th>876</th>\n",
       "      <td>132250</td>\n",
       "      <td>132250.0</td>\n",
       "    </tr>\n",
       "  </tbody>\n",
       "</table>\n",
       "<p>1094 rows × 2 columns</p>\n",
       "</div>"
      ],
      "text/plain": [
       "      Actual  Predicted\n",
       "1200  116050   116050.0\n",
       "634   144000   144000.0\n",
       "367   165000   165000.0\n",
       "1439  197000   197000.0\n",
       "228   125000   125000.0\n",
       "...      ...        ...\n",
       "681   159434   159434.0\n",
       "1299  154000   154000.0\n",
       "86    174000   174000.0\n",
       "724   320000   320000.0\n",
       "876   132250   132250.0\n",
       "\n",
       "[1094 rows x 2 columns]"
      ]
     },
     "execution_count": 74,
     "metadata": {},
     "output_type": "execute_result"
    }
   ],
   "source": [
    "actual_pred"
   ]
  },
  {
   "cell_type": "code",
   "execution_count": 75,
   "id": "2646e397-2710-48f3-aaf8-42463d52e678",
   "metadata": {},
   "outputs": [
    {
     "data": {
      "image/png": "[encoded data removed]",
      "text/plain": [
       "<Figure size 640x480 with 1 Axes>"
      ]
     },
     "metadata": {},
     "output_type": "display_data"
    }
   ],
   "source": [
    "sns.regplot(x = \"Actual\", y = \"Predicted\", data = actual_pred)\n",
    "plt.show()"
   ]
  },
  {
   "cell_type": "code",
   "execution_count": null,
   "id": "57ea6267-3c1e-409b-93cb-aa8060c9175c",
   "metadata": {},
   "outputs": [],
   "source": [
    "\n"
   ]
  },
  {
   "cell_type": "code",
   "execution_count": 76,
   "id": "69a3663c-77c8-4083-a0b8-4b8efcb2e68f",
   "metadata": {},
   "outputs": [
    {
     "data": {
      "text/plain": [
       "9.681551745724855e-22"
      ]
     },
     "execution_count": 76,
     "metadata": {},
     "output_type": "execute_result"
    }
   ],
   "source": [
    "#MSE\n",
    "from sklearn.metrics import mean_squared_error\n",
    "mse_train = mean_squared_error(pp_train_y, pred_train)\n",
    "mse_train"
   ]
  },
  {
   "cell_type": "code",
   "execution_count": 77,
   "id": "7c00cb62-ee45-422f-aced-c770e0952efa",
   "metadata": {},
   "outputs": [
    {
     "data": {
      "text/plain": [
       "3.1115192022105305e-11"
      ]
     },
     "execution_count": 77,
     "metadata": {},
     "output_type": "execute_result"
    }
   ],
   "source": [
    "rmse_train = np.sqrt(mse_train)\n",
    "rmse_train"
   ]
  },
  {
   "cell_type": "code",
   "execution_count": 78,
   "id": "94c4c66b-b495-421a-81ef-97e61810f14a",
   "metadata": {},
   "outputs": [
    {
     "data": {
      "text/plain": [
       "1.5995292508141332e-14"
      ]
     },
     "execution_count": 78,
     "metadata": {},
     "output_type": "execute_result"
    }
   ],
   "source": [
    "# Mape\n",
    "np.mean(np.abs(err_train * 100/ pp_train_y))"
   ]
  },
  {
   "cell_type": "code",
   "execution_count": 79,
   "id": "2a60dc44-b174-49c0-99ea-b43b22bf2cad",
   "metadata": {},
   "outputs": [],
   "source": [
    "# Evaluate our model on test\n",
    "\n",
    "pred_test = linreg.predict(pp_test_x)\n",
    "err_test = pp_test_y - pred_test"
   ]
  },
  {
   "cell_type": "code",
   "execution_count": 80,
   "id": "0eb17ad3-4764-48b9-ab41-05877257d5ee",
   "metadata": {},
   "outputs": [],
   "source": [
    "#mean_absolute_percentage_error(pp_test_y, pred_test) * 100"
   ]
  },
  {
   "cell_type": "code",
   "execution_count": 81,
   "id": "40754bec-8715-4dcf-9e01-7b39a7b8ce67",
   "metadata": {},
   "outputs": [
    {
     "data": {
      "text/plain": [
       "87.86"
      ]
     },
     "execution_count": 81,
     "metadata": {},
     "output_type": "execute_result"
    }
   ],
   "source": [
    "100 - 12.14"
   ]
  },
  {
   "cell_type": "code",
   "execution_count": 82,
   "id": "ee8bd687-1df1-4800-97fe-b040f1fe41c0",
   "metadata": {},
   "outputs": [],
   "source": [
    "# any model\n",
    "#1 aim : as good posssible(Rsquare, ad, mape, mse)\n",
    "#2 stable as possible\n",
    "#3 build the model using as less variables as possible withou compromising much on the model\n"
   ]
  },
  {
   "cell_type": "markdown",
   "id": "e90f3f8d-446e-415d-88e9-79df355fc0df",
   "metadata": {},
   "source": [
    "# Feature Importance\n",
    "-building the model using the significant Features\n",
    "-Feature Selection"
   ]
  },
  {
   "cell_type": "code",
   "execution_count": 113,
   "id": "dc2f5ce8-a0a6-420b-a6f4-a67b70864784",
   "metadata": {},
   "outputs": [],
   "source": [
    "pp = pd.read_csv(r\"Property_Price_Train.csv\")\n",
    "pp.isnull().sum()[pp.isnull().sum() > pp.shape[0] * .5]\n",
    "\n",
    "\n",
    "pp.drop(\"Brick_Veneer_Type\", axis=1, inplace=True)\n",
    "pp.drop(\"Fence_Quality\", axis = 1, inplace = True)\n",
    "pp.drop(\"Lane_Type\", axis = 1, inplace = True)\n",
    "pp.drop(\"Miscellaneous_Feature\", axis = 1, inplace = True)\n",
    "pp.drop(\"Pool_Quality\", axis = 1, inplace = True)\n",
    "pp.drop(\"Fireplace_Quality\", axis = 1, inplace = True)\n",
    "pp.drop(\"Id\", axis=1, inplace = True)\n",
    "\n",
    "pp.Lot_Extent.fillna(pp.Lot_Extent.mean(), inplace = True)\n",
    "pp.Brick_Veneer_Area.fillna(pp.Brick_Veneer_Area.mean(), inplace = True)\n",
    "pp.Basement_Height.fillna('TA', inplace = True)\n",
    "pp.Basement_Condition.fillna('TA', inplace = True) \n",
    "pp.Exposure_Level.fillna('No', inplace = True)\n",
    "pp.BsmtFinType1.fillna('Unf', inplace=True)\n",
    "pp.BsmtFinType2.fillna('Unf', inplace = True)\n",
    "pp.Electrical_System.fillna('SBrkr', inplace = True)\n",
    "pp.Garage.fillna('Attchd', inplace=True)\n",
    "pp.Garage_Built_Year.fillna(pp.Garage_Built_Year.mean(), inplace=True)  \n",
    "pp.Garage_Finish_Year.fillna('Unf', inplace=True) \n",
    "pp.Garage_Quality.fillna('TA', inplace=True) \n",
    "pp.Garage_Condition.fillna('TA', inplace = True)\n",
    "\n",
    "from sklearn.preprocessing import LabelEncoder\n",
    "le = LabelEncoder()\n",
    "pp[pp.select_dtypes(include = 'object').columns] = pp[pp.select_dtypes(include = 'object').columns].apply(le.fit_transform)"
   ]
  },
  {
   "cell_type": "code",
   "execution_count": 115,
   "id": "e826df68-f8db-4d8e-817f-882a853f4754",
   "metadata": {},
   "outputs": [],
   "source": [
    "pp_x = pp.iloc[:, 0:-1]\n",
    "corr_list = []\n",
    "for col in pp_x.columns:\n",
    "    corr_list.append(pp.Sale_Price.corr(pp_x[col]))"
   ]
  },
  {
   "cell_type": "code",
   "execution_count": 117,
   "id": "abf27a72-ac16-48b4-abec-e38e3b321995",
   "metadata": {},
   "outputs": [
    {
     "data": {
      "text/plain": [
       "73"
      ]
     },
     "execution_count": 117,
     "metadata": {},
     "output_type": "execute_result"
    }
   ],
   "source": [
    "len(corr_list)"
   ]
  },
  {
   "cell_type": "code",
   "execution_count": 119,
   "id": "a504abf9-9f90-4fb0-b0d5-9d97df08e9ee",
   "metadata": {},
   "outputs": [
    {
     "data": {
      "text/html": [
       "<div>\n",
       "<style scoped>\n",
       "    .dataframe tbody tr th:only-of-type {\n",
       "        vertical-align: middle;\n",
       "    }\n",
       "\n",
       "    .dataframe tbody tr th {\n",
       "        vertical-align: top;\n",
       "    }\n",
       "\n",
       "    .dataframe thead th {\n",
       "        text-align: right;\n",
       "    }\n",
       "</style>\n",
       "<table border=\"1\" class=\"dataframe\">\n",
       "  <thead>\n",
       "    <tr style=\"text-align: right;\">\n",
       "      <th></th>\n",
       "      <th>Features</th>\n",
       "      <th>Corr</th>\n",
       "    </tr>\n",
       "  </thead>\n",
       "  <tbody>\n",
       "    <tr>\n",
       "      <th>0</th>\n",
       "      <td>Building_Class</td>\n",
       "      <td>-0.084563</td>\n",
       "    </tr>\n",
       "    <tr>\n",
       "      <th>1</th>\n",
       "      <td>Zoning_Class</td>\n",
       "      <td>-0.166896</td>\n",
       "    </tr>\n",
       "    <tr>\n",
       "      <th>2</th>\n",
       "      <td>Lot_Extent</td>\n",
       "      <td>0.334992</td>\n",
       "    </tr>\n",
       "    <tr>\n",
       "      <th>3</th>\n",
       "      <td>Lot_Size</td>\n",
       "      <td>0.263843</td>\n",
       "    </tr>\n",
       "    <tr>\n",
       "      <th>4</th>\n",
       "      <td>Road_Type</td>\n",
       "      <td>0.041057</td>\n",
       "    </tr>\n",
       "    <tr>\n",
       "      <th>...</th>\n",
       "      <td>...</td>\n",
       "      <td>...</td>\n",
       "    </tr>\n",
       "    <tr>\n",
       "      <th>68</th>\n",
       "      <td>Miscellaneous_Value</td>\n",
       "      <td>-0.021216</td>\n",
       "    </tr>\n",
       "    <tr>\n",
       "      <th>69</th>\n",
       "      <td>Month_Sold</td>\n",
       "      <td>0.046401</td>\n",
       "    </tr>\n",
       "    <tr>\n",
       "      <th>70</th>\n",
       "      <td>Year_Sold</td>\n",
       "      <td>-0.028884</td>\n",
       "    </tr>\n",
       "    <tr>\n",
       "      <th>71</th>\n",
       "      <td>Sale_Type</td>\n",
       "      <td>-0.054826</td>\n",
       "    </tr>\n",
       "    <tr>\n",
       "      <th>72</th>\n",
       "      <td>Sale_Condition</td>\n",
       "      <td>0.213168</td>\n",
       "    </tr>\n",
       "  </tbody>\n",
       "</table>\n",
       "<p>73 rows × 2 columns</p>\n",
       "</div>"
      ],
      "text/plain": [
       "               Features      Corr\n",
       "0        Building_Class -0.084563\n",
       "1          Zoning_Class -0.166896\n",
       "2            Lot_Extent  0.334992\n",
       "3              Lot_Size  0.263843\n",
       "4             Road_Type  0.041057\n",
       "..                  ...       ...\n",
       "68  Miscellaneous_Value -0.021216\n",
       "69           Month_Sold  0.046401\n",
       "70            Year_Sold -0.028884\n",
       "71            Sale_Type -0.054826\n",
       "72       Sale_Condition  0.213168\n",
       "\n",
       "[73 rows x 2 columns]"
      ]
     },
     "execution_count": 119,
     "metadata": {},
     "output_type": "execute_result"
    }
   ],
   "source": [
    "feat_imp = pd.DataFrame()\n",
    "feat_imp['Features'] = pp_x.columns\n",
    "feat_imp['Corr'] = corr_list\n",
    "feat_imp"
   ]
  },
  {
   "cell_type": "code",
   "execution_count": 88,
   "id": "957490ed-1991-4343-8395-c1ef5ed0522e",
   "metadata": {},
   "outputs": [],
   "source": [
    "# lets select only those col which have high corelation with target variables"
   ]
  },
  {
   "cell_type": "code",
   "execution_count": 121,
   "id": "0014fd56-ace7-444c-93bb-f2a7b16ebe62",
   "metadata": {},
   "outputs": [
    {
     "data": {
      "text/plain": [
       "(34, 2)"
      ]
     },
     "execution_count": 121,
     "metadata": {},
     "output_type": "execute_result"
    }
   ],
   "source": [
    "feat_imp[(feat_imp.Corr > 0.2) | (feat_imp.Corr < -0.2)].shape"
   ]
  },
  {
   "cell_type": "code",
   "execution_count": 123,
   "id": "fa10d4ef-0ec9-4b04-84be-6b7541e9f4a9",
   "metadata": {},
   "outputs": [],
   "source": [
    "l1 = list(feat_imp[(feat_imp.Corr > 0.1) | (feat_imp.Corr < -0.1)].Features)"
   ]
  },
  {
   "cell_type": "code",
   "execution_count": 125,
   "id": "e7460fd0-da00-42ea-866c-b5f141a24278",
   "metadata": {},
   "outputs": [],
   "source": [
    "l1.append('Sale_Price')"
   ]
  },
  {
   "cell_type": "code",
   "execution_count": 127,
   "id": "4b8ecfba-e98d-4a5b-872d-c1ff1485a679",
   "metadata": {},
   "outputs": [],
   "source": [
    "pp = pp.loc[:, l1]"
   ]
  },
  {
   "cell_type": "code",
   "execution_count": null,
   "id": "1f8cd026-159b-4c61-be7a-cdf186bbbdc5",
   "metadata": {},
   "outputs": [],
   "source": []
  },
  {
   "cell_type": "code",
   "execution_count": 129,
   "id": "df28f780-b312-4679-92ad-e23dae012f34",
   "metadata": {},
   "outputs": [
    {
     "data": {
      "text/html": [
       "<div>\n",
       "<style scoped>\n",
       "    .dataframe tbody tr th:only-of-type {\n",
       "        vertical-align: middle;\n",
       "    }\n",
       "\n",
       "    .dataframe tbody tr th {\n",
       "        vertical-align: top;\n",
       "    }\n",
       "\n",
       "    .dataframe thead th {\n",
       "        text-align: right;\n",
       "    }\n",
       "</style>\n",
       "<table border=\"1\" class=\"dataframe\">\n",
       "  <thead>\n",
       "    <tr style=\"text-align: right;\">\n",
       "      <th></th>\n",
       "      <th>Zoning_Class</th>\n",
       "      <th>Lot_Extent</th>\n",
       "      <th>Lot_Size</th>\n",
       "      <th>Property_Shape</th>\n",
       "      <th>Neighborhood</th>\n",
       "      <th>House_Design</th>\n",
       "      <th>Overall_Material</th>\n",
       "      <th>Construction_Year</th>\n",
       "      <th>Remodel_Year</th>\n",
       "      <th>Roof_Design</th>\n",
       "      <th>...</th>\n",
       "      <th>Fireplaces</th>\n",
       "      <th>Garage</th>\n",
       "      <th>Garage_Built_Year</th>\n",
       "      <th>Garage_Finish_Year</th>\n",
       "      <th>Garage_Size</th>\n",
       "      <th>Garage_Condition</th>\n",
       "      <th>Pavedd_Drive</th>\n",
       "      <th>Screen_Lobby_Area</th>\n",
       "      <th>Sale_Condition</th>\n",
       "      <th>Sale_Price</th>\n",
       "    </tr>\n",
       "  </thead>\n",
       "  <tbody>\n",
       "    <tr>\n",
       "      <th>0</th>\n",
       "      <td>3</td>\n",
       "      <td>65.0</td>\n",
       "      <td>8450</td>\n",
       "      <td>3</td>\n",
       "      <td>5</td>\n",
       "      <td>5</td>\n",
       "      <td>7</td>\n",
       "      <td>2003</td>\n",
       "      <td>2003</td>\n",
       "      <td>1</td>\n",
       "      <td>...</td>\n",
       "      <td>0</td>\n",
       "      <td>2</td>\n",
       "      <td>2003.0</td>\n",
       "      <td>1</td>\n",
       "      <td>2</td>\n",
       "      <td>4</td>\n",
       "      <td>2</td>\n",
       "      <td>0</td>\n",
       "      <td>4</td>\n",
       "      <td>208500</td>\n",
       "    </tr>\n",
       "    <tr>\n",
       "      <th>1</th>\n",
       "      <td>3</td>\n",
       "      <td>80.0</td>\n",
       "      <td>9600</td>\n",
       "      <td>3</td>\n",
       "      <td>24</td>\n",
       "      <td>2</td>\n",
       "      <td>6</td>\n",
       "      <td>1976</td>\n",
       "      <td>1976</td>\n",
       "      <td>1</td>\n",
       "      <td>...</td>\n",
       "      <td>1</td>\n",
       "      <td>2</td>\n",
       "      <td>1976.0</td>\n",
       "      <td>1</td>\n",
       "      <td>2</td>\n",
       "      <td>4</td>\n",
       "      <td>2</td>\n",
       "      <td>0</td>\n",
       "      <td>4</td>\n",
       "      <td>181500</td>\n",
       "    </tr>\n",
       "    <tr>\n",
       "      <th>2</th>\n",
       "      <td>3</td>\n",
       "      <td>68.0</td>\n",
       "      <td>11250</td>\n",
       "      <td>0</td>\n",
       "      <td>5</td>\n",
       "      <td>5</td>\n",
       "      <td>7</td>\n",
       "      <td>2001</td>\n",
       "      <td>2002</td>\n",
       "      <td>1</td>\n",
       "      <td>...</td>\n",
       "      <td>1</td>\n",
       "      <td>2</td>\n",
       "      <td>2001.0</td>\n",
       "      <td>1</td>\n",
       "      <td>2</td>\n",
       "      <td>4</td>\n",
       "      <td>2</td>\n",
       "      <td>0</td>\n",
       "      <td>4</td>\n",
       "      <td>223500</td>\n",
       "    </tr>\n",
       "    <tr>\n",
       "      <th>3</th>\n",
       "      <td>3</td>\n",
       "      <td>60.0</td>\n",
       "      <td>9550</td>\n",
       "      <td>0</td>\n",
       "      <td>6</td>\n",
       "      <td>5</td>\n",
       "      <td>7</td>\n",
       "      <td>1915</td>\n",
       "      <td>1970</td>\n",
       "      <td>1</td>\n",
       "      <td>...</td>\n",
       "      <td>1</td>\n",
       "      <td>6</td>\n",
       "      <td>1998.0</td>\n",
       "      <td>2</td>\n",
       "      <td>3</td>\n",
       "      <td>4</td>\n",
       "      <td>2</td>\n",
       "      <td>0</td>\n",
       "      <td>0</td>\n",
       "      <td>140000</td>\n",
       "    </tr>\n",
       "    <tr>\n",
       "      <th>4</th>\n",
       "      <td>3</td>\n",
       "      <td>84.0</td>\n",
       "      <td>14260</td>\n",
       "      <td>0</td>\n",
       "      <td>15</td>\n",
       "      <td>5</td>\n",
       "      <td>8</td>\n",
       "      <td>2000</td>\n",
       "      <td>2000</td>\n",
       "      <td>1</td>\n",
       "      <td>...</td>\n",
       "      <td>1</td>\n",
       "      <td>2</td>\n",
       "      <td>2000.0</td>\n",
       "      <td>1</td>\n",
       "      <td>3</td>\n",
       "      <td>4</td>\n",
       "      <td>2</td>\n",
       "      <td>0</td>\n",
       "      <td>4</td>\n",
       "      <td>250000</td>\n",
       "    </tr>\n",
       "  </tbody>\n",
       "</table>\n",
       "<p>5 rows × 46 columns</p>\n",
       "</div>"
      ],
      "text/plain": [
       "   Zoning_Class  Lot_Extent  Lot_Size  Property_Shape  Neighborhood  \\\n",
       "0             3        65.0      8450               3             5   \n",
       "1             3        80.0      9600               3            24   \n",
       "2             3        68.0     11250               0             5   \n",
       "3             3        60.0      9550               0             6   \n",
       "4             3        84.0     14260               0            15   \n",
       "\n",
       "   House_Design  Overall_Material  Construction_Year  Remodel_Year  \\\n",
       "0             5                 7               2003          2003   \n",
       "1             2                 6               1976          1976   \n",
       "2             5                 7               2001          2002   \n",
       "3             5                 7               1915          1970   \n",
       "4             5                 8               2000          2000   \n",
       "\n",
       "   Roof_Design  ...  Fireplaces  Garage  Garage_Built_Year  \\\n",
       "0            1  ...           0       2             2003.0   \n",
       "1            1  ...           1       2             1976.0   \n",
       "2            1  ...           1       2             2001.0   \n",
       "3            1  ...           1       6             1998.0   \n",
       "4            1  ...           1       2             2000.0   \n",
       "\n",
       "   Garage_Finish_Year  Garage_Size  Garage_Condition  Pavedd_Drive  \\\n",
       "0                   1            2                 4             2   \n",
       "1                   1            2                 4             2   \n",
       "2                   1            2                 4             2   \n",
       "3                   2            3                 4             2   \n",
       "4                   1            3                 4             2   \n",
       "\n",
       "   Screen_Lobby_Area  Sale_Condition  Sale_Price  \n",
       "0                  0               4      208500  \n",
       "1                  0               4      181500  \n",
       "2                  0               4      223500  \n",
       "3                  0               0      140000  \n",
       "4                  0               4      250000  \n",
       "\n",
       "[5 rows x 46 columns]"
      ]
     },
     "execution_count": 129,
     "metadata": {},
     "output_type": "execute_result"
    }
   ],
   "source": [
    "pp.head()"
   ]
  },
  {
   "cell_type": "code",
   "execution_count": 155,
   "id": "e67285e1-5de5-491a-baef-b1452c8cd9c5",
   "metadata": {},
   "outputs": [],
   "source": [
    "pp = df1"
   ]
  },
  {
   "cell_type": "code",
   "execution_count": 157,
   "id": "a345cd1a-3ebe-4cc3-a88d-cdb20b0203cb",
   "metadata": {},
   "outputs": [],
   "source": [
    "from sklearn.model_selection import train_test_split\n",
    "pp_train, pp_test = train_test_split(pp, test_size = .25, random_state = 111) \n",
    "\n",
    "pp_train_x = pp_train.iloc[:, 0:-1]\n",
    "pp_train_y = pp_train.iloc[:, -1]\n",
    "\n",
    "pp_test_x = pp_test.iloc[:, 0:-1]\n",
    "pp_test_y = pp_test.iloc[:, -1]"
   ]
  },
  {
   "cell_type": "code",
   "execution_count": 158,
   "id": "dfcf1e97-e441-4d59-ab3b-63bb76817944",
   "metadata": {},
   "outputs": [
    {
     "data": {
      "text/plain": [
       "0.8347088370357758"
      ]
     },
     "execution_count": 158,
     "metadata": {},
     "output_type": "execute_result"
    }
   ],
   "source": [
    "from sklearn.linear_model import LinearRegression\n",
    "linreg = LinearRegression()\n",
    "linreg.fit(pp_train_x, pp_train_y)\n",
    "Rsquare = linreg.score(pp_train_x, pp_train_y)\n",
    "Rsquare\n"
   ]
  },
  {
   "cell_type": "code",
   "execution_count": 159,
   "id": "a36e9dad-12d7-4cb9-a54a-4e9764b5ac6e",
   "metadata": {},
   "outputs": [
    {
     "data": {
      "text/plain": [
       "0.8272781653740474"
      ]
     },
     "execution_count": 159,
     "metadata": {},
     "output_type": "execute_result"
    }
   ],
   "source": [
    "N = pp_train_x.shape[0]\n",
    "K = pp_train_x.shape[1]\n",
    "Adj_Rsq = 1 - (1 - Rsquare) * (N - 1)/(N - K - 1)\n",
    "Adj_Rsq"
   ]
  },
  {
   "cell_type": "code",
   "execution_count": 160,
   "id": "a5c6726c-1c16-43cf-a750-1b3faba2b64c",
   "metadata": {},
   "outputs": [],
   "source": [
    "# Feature Importance"
   ]
  },
  {
   "cell_type": "raw",
   "id": "53de26d6-d0b8-4b06-8ee6-33930d5f1926",
   "metadata": {},
   "source": [
    "validation is done when model is being created    (while cooking)\n",
    "testing is done when model is created              (after cookinf)"
   ]
  },
  {
   "cell_type": "code",
   "execution_count": 161,
   "id": "14c4d527-e458-47d9-a4b1-9303b37a556c",
   "metadata": {},
   "outputs": [
    {
     "data": {
      "text/plain": [
       "array([131544.76287292, 128681.76768074, 166334.21225868, ...,\n",
       "       112878.03368405, 265783.22370122, 206203.575613  ])"
      ]
     },
     "execution_count": 161,
     "metadata": {},
     "output_type": "execute_result"
    }
   ],
   "source": [
    "pred_train_pp = linreg.predict(pp_train_x)\n",
    "pred_train_pp"
   ]
  },
  {
   "cell_type": "code",
   "execution_count": null,
   "id": "121b4baa-37f8-47b6-aa21-e2fdb294c979",
   "metadata": {},
   "outputs": [],
   "source": []
  },
  {
   "cell_type": "code",
   "execution_count": 163,
   "id": "4c7b7917-9098-43b2-9d5b-1e7ef16585ca",
   "metadata": {},
   "outputs": [
    {
     "data": {
      "text/plain": [
       "1192    -6544.762873\n",
       "116     10318.232319\n",
       "962    -11334.212259\n",
       "907     32337.629967\n",
       "501     19411.534133\n",
       "            ...     \n",
       "721    -17049.290554\n",
       "1358      735.907152\n",
       "89      10721.966316\n",
       "764      4216.776299\n",
       "923    -13203.575613\n",
       "Name: Sale_Price, Length: 1047, dtype: float64"
      ]
     },
     "execution_count": 163,
     "metadata": {},
     "output_type": "execute_result"
    }
   ],
   "source": [
    "err_train_pp = pp_train_y - pred_train_pp   #(actual - predicted)\n",
    "err_train_pp"
   ]
  },
  {
   "cell_type": "code",
   "execution_count": 164,
   "id": "232ff5f3-9397-4318-b889-a53e6477c8a9",
   "metadata": {},
   "outputs": [
    {
     "data": {
      "text/plain": [
       "9.767990470387988e-11"
      ]
     },
     "execution_count": 164,
     "metadata": {},
     "output_type": "execute_result"
    }
   ],
   "source": [
    "err_train_pp.mean()"
   ]
  },
  {
   "cell_type": "code",
   "execution_count": 165,
   "id": "d2017605-51a7-46b9-a9d4-da4b2929b76a",
   "metadata": {},
   "outputs": [
    {
     "data": {
      "text/plain": [
       "571224220.8602464"
      ]
     },
     "execution_count": 165,
     "metadata": {},
     "output_type": "execute_result"
    }
   ],
   "source": [
    "np.mean(np.square(err_train_pp))"
   ]
  },
  {
   "cell_type": "code",
   "execution_count": 166,
   "id": "70a7ec08-3c06-4598-a325-859412a0dbfd",
   "metadata": {},
   "outputs": [
    {
     "data": {
      "image/png": "[encoded data removed]",
      "text/plain": [
       "<Figure size 640x480 with 1 Axes>"
      ]
     },
     "metadata": {},
     "output_type": "display_data"
    }
   ],
   "source": [
    "plt.hist(err_train_pp, bins = 30, edgecolor = 'red')\n",
    "plt.show()"
   ]
  },
  {
   "cell_type": "code",
   "execution_count": 167,
   "id": "0cab36e5-1e9b-4644-9b95-862ea8fb2713",
   "metadata": {},
   "outputs": [],
   "source": [
    "actual_pred = pd.DataFrame()\n",
    "actual_pred[\"Actual\"] = pp_train_y\n",
    "actual_pred[\"Predicted\"] = pred_train_pp"
   ]
  },
  {
   "cell_type": "code",
   "execution_count": 168,
   "id": "a53726f4-dcc6-428a-86d8-f466c06ee57b",
   "metadata": {},
   "outputs": [
    {
     "data": {
      "image/png": "[encoded data removed]",
      "text/plain": [
       "<Figure size 640x480 with 1 Axes>"
      ]
     },
     "metadata": {},
     "output_type": "display_data"
    }
   ],
   "source": [
    "sns.regplot(x = \"Actual\", y = \"Predicted\", data = actual_pred)\n",
    "plt.show()"
   ]
  },
  {
   "cell_type": "code",
   "execution_count": 169,
   "id": "c474780c-508e-4181-a4f3-6a3670d950a0",
   "metadata": {},
   "outputs": [
    {
     "data": {
      "text/plain": [
       "[<matplotlib.lines.Line2D at 0x14184846060>]"
      ]
     },
     "execution_count": 169,
     "metadata": {},
     "output_type": "execute_result"
    },
    {
     "data": {
      "image/png": "[encoded data removed]",
      "text/plain": [
       "<Figure size 640x480 with 1 Axes>"
      ]
     },
     "metadata": {},
     "output_type": "display_data"
    }
   ],
   "source": [
    "plt.plot(err_train_pp,'.')"
   ]
  },
  {
   "cell_type": "raw",
   "id": "9dba45fb-3016-495e-91bd-312a95fdd0ef",
   "metadata": {},
   "source": [
    "def remove_outliers(df,col,k):\n",
    "    mean = df[col].mean()\n",
    "    global df1\n",
    "    sd = df[col].std()\n",
    "    final_list = [x for x in df[col] if (x > mean - k * sd)]\n",
    "    final_list = [x for x in final_list if (x < mean + k * sd)]\n",
    "    df1 = df.loc[df[col].isin(final_list)];\n",
    "    print(df1.shape)\n",
    "#    print(\"Number of outliers removed == > \", df.shape[0] - df1.shape[0])"
   ]
  },
  {
   "cell_type": "code",
   "execution_count": 170,
   "id": "145d2d7a-eb98-4faa-955c-16bb3fedf682",
   "metadata": {},
   "outputs": [],
   "source": [
    "def remove_outliers(df, col, k):\n",
    "    mean = df[col].mean()\n",
    "    global df1\n",
    "    sd = df[col].std()\n",
    "    final_list = [x for x in df[col] if (x > mean - k * sd)]  # No need for a semicolon\n",
    "    final_list = [x for x in final_list if (x < mean + k * sd)]\n",
    "    df1 = df.loc[df[col].isin(final_list)]\n",
    "    \n",
    "    print(df1.shape)\n",
    "    print(\"Number of outliers removed =>\", df.shape[0] - df1.shape[0])  # Corrected print statement\n"
   ]
  },
  {
   "cell_type": "code",
   "execution_count": 171,
   "id": "cda95380-9dcc-4921-bafa-4c3a94eadc18",
   "metadata": {},
   "outputs": [],
   "source": [
    "# outliers are removed from target variable\n",
    "# or remove from whole data\n"
   ]
  },
  {
   "cell_type": "code",
   "execution_count": null,
   "id": "9ca5433c-e369-4330-b7ff-2ba23082c105",
   "metadata": {},
   "outputs": [],
   "source": []
  },
  {
   "cell_type": "code",
   "execution_count": 173,
   "id": "83ef2f50-12db-4a41-b7a7-9d650766de1a",
   "metadata": {},
   "outputs": [
    {
     "name": "stdout",
     "output_type": "stream",
     "text": [
      "(1326, 46)\n",
      "Number of outliers removed => 70\n"
     ]
    }
   ],
   "source": [
    "remove_outliers(pp, 'Sale_Price', 2)\n"
   ]
  },
  {
   "cell_type": "code",
   "execution_count": null,
   "id": "e6b084ad-ffeb-4d21-aa2f-574bc68ac3e4",
   "metadata": {},
   "outputs": [],
   "source": []
  },
  {
   "cell_type": "raw",
   "id": "65e38fc2-7a9d-4104-8012-f7a00bb229ac",
   "metadata": {},
   "source": [
    "# Hw Car price\n",
    "# target --> Price column\n",
    "\n",
    "feature selction then model build\n",
    "\n",
    "any one u can do\n",
    "\n",
    "full model build then feature selc and then compre"
   ]
  },
  {
   "cell_type": "code",
   "execution_count": null,
   "id": "c5bfcde7-924e-4fc1-9f71-b1df2f6348f6",
   "metadata": {},
   "outputs": [],
   "source": []
  },
  {
   "cell_type": "code",
   "execution_count": null,
   "id": "823ddc3f-c65a-4d59-9ef2-31ae294ae392",
   "metadata": {},
   "outputs": [],
   "source": []
  },
  {
   "cell_type": "code",
   "execution_count": null,
   "id": "2a69dc09-ace9-4b38-b3f7-3fabb4115798",
   "metadata": {},
   "outputs": [],
   "source": []
  },
  {
   "cell_type": "code",
   "execution_count": null,
   "id": "33191fbb-70bb-41cc-872e-65e77a0fb95f",
   "metadata": {},
   "outputs": [],
   "source": []
  },
  {
   "cell_type": "code",
   "execution_count": null,
   "id": "a371ce11-e6a3-485e-abcd-4cdb97ff3a64",
   "metadata": {},
   "outputs": [],
   "source": []
  },
  {
   "cell_type": "code",
   "execution_count": null,
   "id": "60c20759-14e9-450c-9651-f5d8e1157adf",
   "metadata": {},
   "outputs": [],
   "source": []
  },
  {
   "cell_type": "code",
   "execution_count": null,
   "id": "91d3a3ba-4c57-4acc-b9e6-e618961e7305",
   "metadata": {},
   "outputs": [],
   "source": []
  },
  {
   "cell_type": "code",
   "execution_count": null,
   "id": "7b8e13ad-0168-465b-a617-768cd7089953",
   "metadata": {},
   "outputs": [],
   "source": []
  },
  {
   "cell_type": "code",
   "execution_count": null,
   "id": "caa40e69-be29-44f1-b1af-e3af39ac97e6",
   "metadata": {},
   "outputs": [],
   "source": []
  },
  {
   "cell_type": "code",
   "execution_count": null,
   "id": "68f4a2b7-423c-45b2-8be8-7a3a51b33d63",
   "metadata": {},
   "outputs": [],
   "source": []
  },
  {
   "cell_type": "code",
   "execution_count": null,
   "id": "7c40f0f6-c848-410e-8eef-64b4b499d395",
   "metadata": {},
   "outputs": [],
   "source": []
  },
  {
   "cell_type": "code",
   "execution_count": null,
   "id": "0840ae3c-5a50-450d-8a63-adc9f1e25abf",
   "metadata": {},
   "outputs": [],
   "source": []
  },
  {
   "cell_type": "code",
   "execution_count": null,
   "id": "fa1ed4e5-c710-42b7-bb66-fdf5982127b5",
   "metadata": {},
   "outputs": [],
   "source": []
  },
  {
   "cell_type": "code",
   "execution_count": null,
   "id": "7f8d95fe-2c6a-4657-b1b0-4864bc5cefce",
   "metadata": {},
   "outputs": [],
   "source": []
  }
 ],
 "metadata": {
  "kernelspec": {
   "display_name": "Python 3 (ipykernel)",
   "language": "python",
   "name": "python3"
  },
  "language_info": {
   "codemirror_mode": {
    "name": "ipython",
    "version": 3
   },
   "file_extension": ".py",
   "mimetype": "text/x-python",
   "name": "python",
   "nbconvert_exporter": "python",
   "pygments_lexer": "ipython3",
   "version": "3.12.4"
  }
 },
 "nbformat": 4,
 "nbformat_minor": 5
}
